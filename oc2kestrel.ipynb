{
 "cells": [
  {
   "cell_type": "markdown",
   "metadata": {},
   "source": [
    "# Calling Kestrel via OpenC2\n",
    "OpenC2 is the standard, vendor agnostic language for command and control for cyber defense from OASIS. OpenC2 commands are instructions to execute on an system, and are composed of two main components: an `action` and a `target`. The Kestrel Actuator profile supports the `investigate` action. Targets are cyber observables, such as files, decides, IP addresses and processes. In an OpenC2 implementation, there are two main components, a `producer` of a command, and a `consumer`, which executes the command, and returns a `response`. The transport and serialization is an implementation detail. In our example, we use HTTP and JSON. \n",
    "\n",
    "Let's get started! First, you'll need to run the consumer\n",
    "\n",
    "`$ python consumer.py`\n",
    "\n",
    "Do that in a separate terminal, and return here."
   ]
  },
  {
   "cell_type": "code",
   "execution_count": 8,
   "metadata": {},
   "outputs": [],
   "source": [
    "import sys\n",
    "import requests\n",
    "import uuid\n",
    "import json\n",
    "import time\n",
    "\n",
    "import openc2"
   ]
  },
  {
   "cell_type": "code",
   "execution_count": 9,
   "metadata": {},
   "outputs": [],
   "source": [
    "host = 'localhost'\n",
    "port = '5123'"
   ]
  },
  {
   "cell_type": "code",
   "execution_count": 10,
   "metadata": {},
   "outputs": [],
   "source": [
    "def get_uuid():\n",
    "    return str(uuid.uuid4())\n",
    "\n",
    "def get_headers(uuid):\n",
    "    headers = {\n",
    "        \"request_id\": uuid,\n",
    "        \"created\": time.time()\n",
    "    }\n",
    "    return headers"
   ]
  },
  {
   "cell_type": "markdown",
   "metadata": {},
   "source": [
    "### Query Command\n",
    "Every OpenC2 consumer must suppor the `query` command which specifies what profiles, actions, and targets it supports. "
   ]
  },
  {
   "cell_type": "code",
   "execution_count": 11,
   "metadata": {},
   "outputs": [],
   "source": [
    "def _get_query():\n",
    "    cmd = {\n",
    "        \"action\": \"query\",\n",
    "        \"target\": {\"features\": [\"versions\", \"profiles\", \"rate_limit\", \"pairs\"]},\n",
    "        \"args\": {},\n",
    "        \"actuator\": {\n",
    "            \"x-kestrel\": {}\n",
    "        }\n",
    "    }\n",
    "    return cmd"
   ]
  },
  {
   "cell_type": "code",
   "execution_count": 28,
   "metadata": {},
   "outputs": [],
   "source": [
    "def run_command(cmd):\n",
    "    uuid = get_uuid()\n",
    "    headers = {\n",
    "        \"Content-type\": \"application/openc2+json;version=1.0\",\n",
    "        \"Accept\": \"application/openc2+json;version=1.0\",\n",
    "        \"X-Request-ID\": uuid\n",
    "    }\n",
    "    body = {\n",
    "        \"headers\": get_headers(uuid),\n",
    "        \"body\": {\"openc2\": { \"request\": cmd } }\n",
    "        }\n",
    "\n",
    "    res = requests.post(f'http://{host}:{port}/v1/openc2', data=json.dumps(body), headers=headers)\n",
    "    print('response from server:',res.status_code)\n",
    "    return res.json()['body']['openc2']"
   ]
  },
  {
   "cell_type": "code",
   "execution_count": 29,
   "metadata": {},
   "outputs": [
    {
     "name": "stdout",
     "output_type": "stream",
     "text": [
      "response from server: 200\n",
      "{'results': {'pairs': {'investigate': []}, 'profiles': ['kestrel'], 'rate_limit': 30, 'x-kestrel': {'anomaly': {'retvars': ['proc_truepositives'], 'vars': ['source', 'process.pid']}, 'cos': {'retvars': ['cos_conn'], 'vars': ['source', 'ipv4_connection.dst_addr']}, 'exfil': {'retvars': ['nt_to_investigate', 'nt_truepositives'], 'vars': ['source', 'ipv4_connection.dst_addr']}, 'network': {'retvars': ['gpproc'], 'vars': ['monitored_host', 'src_ip', 'src_port', 'dst_ip', 'dst_port']}, 'recon': {'retvars': ['newvar'], 'vars': ['source']}, 'rootcause': {'retvars': ['ppp_all'], 'vars': ['source', 'process.pid']}}}, 'status': 200, 'status_text': ''}\n"
     ]
    }
   ],
   "source": [
    "profile = run_command(_get_query())\n",
    "print(profile)"
   ]
  },
  {
   "cell_type": "code",
   "execution_count": 30,
   "metadata": {},
   "outputs": [],
   "source": [
    "def _get_investigate():\n",
    "    cmd = {\n",
    "        \"action\": \"investigate\",\n",
    "        \"target\": {\n",
    "            \"ipv4_connection\": {\n",
    "                \"src_addr\": \"172.17.0.2\",\n",
    "                \"src_port\": 0,\n",
    "                \"dst_addr\": \"104.244.42.130\",\n",
    "                \"dst_port\": 0,\n",
    "                \"protocol\": \"tcp\"\n",
    "                }\n",
    "        },\n",
    "        \"args\": {\n",
    "            \"huntargs\": {},\n",
    "            \"returnvars\": [\"nt_to_investigate\"],\n",
    "            \"response_requested\": \"complete\"\n",
    "            },\n",
    "        \"actuator\": {\n",
    "            \"x-kestrel\": {\n",
    "                \"huntbook\": \"exfil\"\n",
    "            }\n",
    "        }\n",
    "    }\n",
    "    return cmd"
   ]
  },
  {
   "cell_type": "code",
   "execution_count": 31,
   "metadata": {},
   "outputs": [
    {
     "name": "stdout",
     "output_type": "stream",
     "text": [
      "response from server: 200\n",
      "{'status': 500, 'status_text': \"[Errno 2] No such file or directory: '/opt/var/huntflows'\"}\n"
     ]
    }
   ],
   "source": [
    "response = run_command(_get_investigate())\n",
    "print(response)"
   ]
  },
  {
   "cell_type": "code",
   "execution_count": 34,
   "metadata": {},
   "outputs": [
    {
     "data": {
      "text/plain": [
       "{'retvars': ['nt_to_investigate', 'nt_truepositives'],\n",
       " 'vars': ['source', 'ipv4_connection.dst_addr']}"
      ]
     },
     "execution_count": 34,
     "metadata": {},
     "output_type": "execute_result"
    }
   ],
   "source": [
    "hb = profile['results']['x-kestrel']['exfil']\n",
    "hb"
   ]
  },
  {
   "cell_type": "code",
   "execution_count": null,
   "metadata": {},
   "outputs": [],
   "source": [
    "ipv4_neta"
   ]
  },
  {
   "cell_type": "code",
   "execution_count": 6,
   "metadata": {
    "scrolled": true
   },
   "outputs": [],
   "source": [
    "from openc2.v10 import IPv4Connection\n",
    "from oc2.custom import KestrelArgs, KestrelActuator"
   ]
  },
  {
   "cell_type": "code",
   "execution_count": 37,
   "metadata": {},
   "outputs": [],
   "source": [
    "huntbook = 'exfil'\n",
    "huntargs = {}\n",
    "returnvars = hb['retvars']\n",
    "target = IPv4Connection(src_addr='172.17.0.2', dst_addr='104.244.42.130', src_port=0, dst_port=0, protocol='tcp')\n",
    "\n",
    "cmd = openc2.v10.Command(\n",
    "    action=\"investigate\",\n",
    "    target=target,\n",
    "    args=KestrelArgs(huntargs=huntargs, returnvars=returnvars, response_requested=\"complete\"),\n",
    "    actuator=KestrelActuator(huntbook=huntbook, \n",
    "    )\n",
    ")"
   ]
  },
  {
   "cell_type": "code",
   "execution_count": 39,
   "metadata": {},
   "outputs": [
    {
     "data": {
      "text/plain": [
       "'{\"action\": \"investigate\", \"target\": {\"ipv4_connection\": {\"src_addr\": \"172.17.0.2\", \"dst_addr\": \"104.244.42.130\", \"src_port\": 0, \"dst_port\": 0, \"protocol\": \"tcp\"}}, \"args\": {\"huntargs\": {}, \"returnvars\": [\"nt_to_investigate\", \"nt_truepositives\"], \"response_requested\": \"complete\"}, \"actuator\": {\"x-kestrel\": {\"huntbook\": \"exfil\"}}}'"
      ]
     },
     "execution_count": 39,
     "metadata": {},
     "output_type": "execute_result"
    }
   ],
   "source": [
    "cmd.serialize()"
   ]
  },
  {
   "cell_type": "code",
   "execution_count": null,
   "metadata": {},
   "outputs": [],
   "source": [
    "response = run_command(cmd)\n",
    "print(response)"
   ]
  }
 ],
 "metadata": {
  "kernelspec": {
   "display_name": "Python 3",
   "language": "python",
   "name": "python3"
  },
  "language_info": {
   "codemirror_mode": {
    "name": "ipython",
    "version": 3
   },
   "file_extension": ".py",
   "mimetype": "text/x-python",
   "name": "python",
   "nbconvert_exporter": "python",
   "pygments_lexer": "ipython3",
   "version": "3.7.7"
  }
 },
 "nbformat": 4,
 "nbformat_minor": 5
}
